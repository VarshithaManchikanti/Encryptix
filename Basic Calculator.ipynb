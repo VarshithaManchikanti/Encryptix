{
 "cells": [
  {
   "cell_type": "code",
   "execution_count": 2,
   "id": "417113ef",
   "metadata": {},
   "outputs": [
    {
     "name": "stdout",
     "output_type": "stream",
     "text": [
      "Choose Operations\n",
      "Enter + for Addition\n",
      "Enter - for Subtraction\n",
      "Enter * for Multiplication\n",
      "Enter / for Division\n",
      "Enter choice of operation (+, -, *, /): /\n",
      "Enter the First Number: 8\n",
      "Enter the Second Number: 0\n",
      "8.0 / 0.0 = Cannot divide by zero\n"
     ]
    }
   ],
   "source": [
    "# Calculator Program in Python by defining operations\n",
    "\n",
    "# Define Operators or Functions: Addition, Subtraction, Multiplication, and Division\n",
    "\n",
    "# Addition\n",
    "def addition(a, b):\n",
    "    return a + b\n",
    "\n",
    "# Subtraction\n",
    "def subtraction(a, b):\n",
    "    return a - b\n",
    "\n",
    "# Multiplication\n",
    "def multiplication(a, b):\n",
    "    return a * b\n",
    "\n",
    "# Division\n",
    "def division(a, b):\n",
    "    if b == 0:\n",
    "        return \"Cannot divide by zero\"\n",
    "    return a / b\n",
    "\n",
    "print(\"Choose Operations\")\n",
    "print(\"Enter + for Addition\")\n",
    "print(\"Enter - for Subtraction\")\n",
    "print(\"Enter * for Multiplication\")\n",
    "print(\"Enter / for Division\")\n",
    "operation = input(\"Enter choice of operation (+, -, *, /): \")\n",
    "\n",
    "# Taking Input from the Users\n",
    "a = float(input(\"Enter the First Number: \"))\n",
    "b = float(input(\"Enter the Second Number: \"))\n",
    "\n",
    "if operation == '+':\n",
    "    print(a, \"+\", b, \"=\", addition(a, b))\n",
    "\n",
    "elif operation == '-':\n",
    "    print(a, \"-\", b, \"=\", subtraction(a, b)) \n",
    "\n",
    "elif operation == '*':\n",
    "    print(a, \"*\", b, \"=\", multiplication(a, b)) \n",
    "    \n",
    "elif operation == '/':\n",
    "    print(a, \"/\", b, \"=\", division(a, b)) \n",
    "    \n",
    "else:\n",
    "    print(\"Invalid Input\")\n"
   ]
  },
  {
   "cell_type": "code",
   "execution_count": null,
   "id": "a41e7514",
   "metadata": {},
   "outputs": [],
   "source": []
  }
 ],
 "metadata": {
  "kernelspec": {
   "display_name": "Python 3 (ipykernel)",
   "language": "python",
   "name": "python3"
  },
  "language_info": {
   "codemirror_mode": {
    "name": "ipython",
    "version": 3
   },
   "file_extension": ".py",
   "mimetype": "text/x-python",
   "name": "python",
   "nbconvert_exporter": "python",
   "pygments_lexer": "ipython3",
   "version": "3.11.5"
  }
 },
 "nbformat": 4,
 "nbformat_minor": 5
}
